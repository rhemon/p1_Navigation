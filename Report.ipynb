{
 "cells": [
  {
   "cell_type": "markdown",
   "metadata": {},
   "source": [
    "# Navigation Report\n",
    "\n",
    "---\n",
    "\n",
    "The following project was done as part of the Udacity's Deep Reinforcement Learning Nanodegree.\n",
    "The starting code and environment was collected from them. The environment is set in where you move around and try to collect as many yellow bananas as you can and avoid the blue ones.\n",
    "\n",
    "I have design neural network model and have trained that learns to navigate through the world, and take yellow  avoiding blue ones."
   ]
  },
  {
   "cell_type": "markdown",
   "metadata": {},
   "source": [
    "Run the next code cell to install a few packages.  This line will take a few minutes to run!"
   ]
  },
  {
   "cell_type": "code",
   "execution_count": 1,
   "metadata": {},
   "outputs": [
    {
     "name": "stdout",
     "output_type": "stream",
     "text": [
      "Processing c:\\workspace\\p1_navigation\\python\n",
      "  Requirement already satisfied (use --upgrade to upgrade): unityagents==0.4.0 from file:///C:/Workspace/p1_Navigation/python in c:\\workspace\\deep-reinforcement-learning\\p1_navigation\\venv\\lib\\site-packages\n",
      "Requirement already satisfied: tensorflow==1.7.1 in c:\\workspace\\deep-reinforcement-learning\\p1_navigation\\venv\\lib\\site-packages (from unityagents==0.4.0)\n",
      "Requirement already satisfied: Pillow>=4.2.1 in c:\\workspace\\deep-reinforcement-learning\\p1_navigation\\venv\\lib\\site-packages (from unityagents==0.4.0)\n",
      "Requirement already satisfied: matplotlib in c:\\workspace\\deep-reinforcement-learning\\p1_navigation\\venv\\lib\\site-packages (from unityagents==0.4.0)\n",
      "Requirement already satisfied: numpy>=1.11.0 in c:\\workspace\\deep-reinforcement-learning\\p1_navigation\\venv\\lib\\site-packages (from unityagents==0.4.0)\n",
      "Requirement already satisfied: jupyter in c:\\workspace\\deep-reinforcement-learning\\p1_navigation\\venv\\lib\\site-packages (from unityagents==0.4.0)\n",
      "Requirement already satisfied: pytest>=3.2.2 in c:\\workspace\\deep-reinforcement-learning\\p1_navigation\\venv\\lib\\site-packages (from unityagents==0.4.0)\n",
      "Requirement already satisfied: docopt in c:\\workspace\\deep-reinforcement-learning\\p1_navigation\\venv\\lib\\site-packages (from unityagents==0.4.0)\n",
      "Requirement already satisfied: pyyaml in c:\\workspace\\deep-reinforcement-learning\\p1_navigation\\venv\\lib\\site-packages (from unityagents==0.4.0)\n",
      "Requirement already satisfied: protobuf==3.5.2 in c:\\workspace\\deep-reinforcement-learning\\p1_navigation\\venv\\lib\\site-packages (from unityagents==0.4.0)\n",
      "Requirement already satisfied: grpcio==1.11.0 in c:\\workspace\\deep-reinforcement-learning\\p1_navigation\\venv\\lib\\site-packages (from unityagents==0.4.0)\n",
      "Collecting torch==0.4.0 (from unityagents==0.4.0)\n"
     ]
    },
    {
     "name": "stderr",
     "output_type": "stream",
     "text": [
      "  Could not find a version that satisfies the requirement torch==0.4.0 (from unityagents==0.4.0) (from versions: 0.1.2, 0.1.2.post1, 0.1.2.post2)\n",
      "No matching distribution found for torch==0.4.0 (from unityagents==0.4.0)\n",
      "You are using pip version 9.0.1, however version 20.1.1 is available.\n",
      "You should consider upgrading via the 'python -m pip install --upgrade pip' command.\n"
     ]
    }
   ],
   "source": [
    "!pip install ./python"
   ]
  },
  {
   "cell_type": "markdown",
   "metadata": {},
   "source": [
    "During training I used the workspace provided by Udacity, but if you use it locally you can update the path for it."
   ]
  },
  {
   "cell_type": "code",
   "execution_count": 2,
   "metadata": {},
   "outputs": [
    {
     "name": "stderr",
     "output_type": "stream",
     "text": [
      "INFO:unityagents:\n",
      "'Academy' started successfully!\n",
      "Unity Academy name: Academy\n",
      "        Number of Brains: 1\n",
      "        Number of External Brains : 1\n",
      "        Lesson number : 0\n",
      "        Reset Parameters :\n",
      "\t\t\n",
      "Unity brain name: BananaBrain\n",
      "        Number of Visual Observations (per agent): 0\n",
      "        Vector Observation space type: continuous\n",
      "        Vector Observation space size (per agent): 37\n",
      "        Number of stacked Vector Observation: 1\n",
      "        Vector Action space type: discrete\n",
      "        Vector Action space size (per agent): 4\n",
      "        Vector Action descriptions: , , , \n"
     ]
    }
   ],
   "source": [
    "from unityagents import UnityEnvironment\n",
    "import numpy as np\n",
    "\n",
    "# please do not modify the line below\n",
    "# env = UnityEnvironment(file_name=\"/data/Banana_Linux_NoVis/Banana.x86_64\")\n",
    "env = UnityEnvironment(file_name=\"Banana_Windows_x86_64/Banana.exe\")"
   ]
  },
  {
   "cell_type": "markdown",
   "metadata": {},
   "source": [
    "Environments contain **_brains_** which are responsible for deciding the actions of their associated agents. Here we check for the first brain available, and set it as the default brain we will be controlling from Python."
   ]
  },
  {
   "cell_type": "code",
   "execution_count": 3,
   "metadata": {},
   "outputs": [],
   "source": [
    "# get the default brain\n",
    "brain_name = env.brain_names[0]\n",
    "brain = env.brains[brain_name]"
   ]
  },
  {
   "cell_type": "markdown",
   "metadata": {},
   "source": [
    "### 2. Examine the State and Action Spaces\n",
    "\n",
    "Run the code cell below to print some information about the environment."
   ]
  },
  {
   "cell_type": "code",
   "execution_count": 4,
   "metadata": {},
   "outputs": [
    {
     "name": "stdout",
     "output_type": "stream",
     "text": [
      "Number of agents: 1\n",
      "Number of actions: 4\n",
      "States look like: [1.         0.         0.         0.         0.84408134 0.\n",
      " 0.         1.         0.         0.0748472  0.         1.\n",
      " 0.         0.         0.25755    1.         0.         0.\n",
      " 0.         0.74177343 0.         1.         0.         0.\n",
      " 0.25854847 0.         0.         1.         0.         0.09355672\n",
      " 0.         1.         0.         0.         0.31969345 0.\n",
      " 0.        ]\n",
      "States have length: 37\n"
     ]
    }
   ],
   "source": [
    "# reset the environment\n",
    "env_info = env.reset(train_mode=True)[brain_name]\n",
    "\n",
    "# number of agents in the environment\n",
    "print('Number of agents:', len(env_info.agents))\n",
    "\n",
    "# number of actions\n",
    "action_size = brain.vector_action_space_size\n",
    "print('Number of actions:', action_size)\n",
    "\n",
    "# examine the state space \n",
    "state = env_info.vector_observations[0]\n",
    "print('States look like:', state)\n",
    "state_size = len(state)\n",
    "print('States have length:', state_size)"
   ]
  },
  {
   "cell_type": "markdown",
   "metadata": {},
   "source": [
    "Importing modules for building and training the neural network."
   ]
  },
  {
   "cell_type": "code",
   "execution_count": 5,
   "metadata": {},
   "outputs": [],
   "source": [
    "import torch\n",
    "import torch.nn as nn\n",
    "import torch.optim as optim\n",
    "import torch.nn.functional as F\n",
    "import numpy as np\n",
    "import random\n",
    "from collections import namedtuple, deque\n",
    "from matplotlib import pyplot as plt"
   ]
  },
  {
   "cell_type": "markdown",
   "metadata": {},
   "source": [
    "Identify device, on workspace I used their provided GPU, but when locally it will pick the CPU"
   ]
  },
  {
   "cell_type": "code",
   "execution_count": 6,
   "metadata": {},
   "outputs": [],
   "source": [
    "device = torch.device(\"cuda:0\" if torch.cuda.is_available() else \"cpu\")"
   ]
  },
  {
   "cell_type": "markdown",
   "metadata": {},
   "source": [
    "#### Network Strucutre\n",
    "After several trial and errors I ended up keeping the following neural network architeture for this problem. The following has seven hidden layers. Each hidden layers uses ReLu activation."
   ]
  },
  {
   "cell_type": "code",
   "execution_count": 7,
   "metadata": {},
   "outputs": [],
   "source": [
    "class Network(nn.Module):\n",
    "    \"\"\"Actor (Policy) Model.\"\"\"\n",
    "\n",
    "    def __init__(self, state_size, action_size, seed):\n",
    "        \"\"\"Initialize parameters and build model.\n",
    "        Params\n",
    "        ======\n",
    "            state_size (int): Dimension of each state\n",
    "            action_size (int): Dimension of each action\n",
    "            seed (int): Random seed\n",
    "        \"\"\"\n",
    "        super(Network, self).__init__()\n",
    "        self.seed = torch.manual_seed(seed)\n",
    "        self.first = nn.Linear(state_size, 64)\n",
    "        self.layer1 = nn.Linear(64, 64)\n",
    "        self.last = nn.Linear(64, action_size)\n",
    "\n",
    "    def forward(self, state):\n",
    "        \"\"\"Build a network that maps state -> action values.\"\"\"\n",
    "        x = F.relu(self.first(state))\n",
    "        x = F.relu(self.layer1(x))\n",
    "        return self.last(x)"
   ]
  },
  {
   "cell_type": "markdown",
   "metadata": {},
   "source": [
    "##### Hyperparameters, Learning Algorithm\n",
    "\n",
    "The following code was mainly brought from the dqn_agent.py file from a previous practice project in the nanodegree. It has the code for Agent and ReplayBuffer class. ReplayBuffer class allows to train the model using Experience Replay. It keeps in memory previous 100 thousand steps and trains the model using a batch size of 64.\n",
    "\n",
    "I only updated the learning rate and tau that is used to update the target parameters. As I did trial and error I noticed that the lower rate and tau made the progression slow, but by increase these the the agent achieved an average score above 13 much earlier.\n",
    "\n",
    "Alongside experience replay agent also learns using fixed q target, so having a lightly higher tau keeps the target changing a bit more rapidly.\n",
    "\n",
    "The agent also used epsilon greedy approach to picking actions, to allow the agent to explore the states instead of focusing on exploiting from the get go. Especially for this time of environment, I believe exploration is quite important. With low epsilon it can end up in situations where the agent gets stuck at a point, where it will keep turning and moving back and forth as just movements give no reward. So for example if a blue banana stays ahead the agent might end up getting stuck their moving back and forth or turning left and right, but having high exploration will make it try new things on learning and on the longer run help it become better at performing its task.\n",
    "\n",
    "The learning algorithm takes the batch of experiences and uses the the target network to determine the state-action value pair for the taken actions using the local qnetwork model. It calculates a value Q-value for next states and then uses `rewards + (gamma * Q_next_states * (1 - dones))` to get current states Q-value. Which is then taken to compare with Q-value determined the local network. Using mean square error loss (mse_loss) it the difference between target and local Q-value is determined and performs gradient descent on the local model based on that. And afterwards it does a soft update of the target Q network, affecting a small change for the changes in local model.\n",
    "\n",
    "Once again the base code for all of the above was obtained from the workspace, I only played with the hyperparameters to bring better performance in the agent."
   ]
  },
  {
   "cell_type": "code",
   "execution_count": 12,
   "metadata": {},
   "outputs": [],
   "source": [
    "BUFFER_SIZE = int(1e5)  # replay buffer size\n",
    "BATCH_SIZE = 64         # minibatch size\n",
    "GAMMA = 0.99            # discount factor\n",
    "TAU = 1e-2              # for soft update of target parameters\n",
    "LR = 1e-4               # learning rate \n",
    "UPDATE_EVERY = 5        # how often to update the network\n",
    "\n",
    "\n",
    "class Agent():\n",
    "    \"\"\"Interacts with and learns from the environment.\"\"\"\n",
    "\n",
    "    def __init__(self, state_size, action_size, seed):\n",
    "        \"\"\"Initialize an Agent object.\n",
    "        \n",
    "        Params\n",
    "        ======\n",
    "            state_size (int): dimension of each state\n",
    "            action_size (int): dimension of each action\n",
    "            seed (int): random seed\n",
    "        \"\"\"\n",
    "        self.state_size = state_size\n",
    "        self.action_size = action_size\n",
    "        self.seed = random.seed(seed)\n",
    "\n",
    "        # Q-Network\n",
    "        self.qnetwork_local = Network(state_size, action_size, seed).to(device)\n",
    "        self.qnetwork_target = Network(state_size, action_size, seed).to(device)\n",
    "        self.optimizer = optim.Adam(self.qnetwork_local.parameters(), lr=LR)\n",
    "\n",
    "        # Replay memory\n",
    "        self.memory = ReplayBuffer(action_size, BUFFER_SIZE, BATCH_SIZE, seed)\n",
    "        # Initialize time step (for updating every UPDATE_EVERY steps)\n",
    "        self.t_step = 0\n",
    "        \n",
    "    \n",
    "    def step(self, state, action, reward, next_state, done):\n",
    "        # Save experience in replay memory\n",
    "        self.memory.add(state, action, reward, next_state, done)\n",
    "        \n",
    "        self.t_step = (self.t_step + 1) % UPDATE_EVERY\n",
    "        \n",
    "        # If enough samples are available in memory, get random subset and learn\n",
    "        if len(self.memory) > BATCH_SIZE and self.t_step == 0:\n",
    "            experiences = self.memory.sample()\n",
    "            self.learn(experiences, GAMMA)\n",
    "\n",
    "    def act(self, state, eps=0.):\n",
    "        \"\"\"Returns actions for given state as per current policy.\n",
    "        \n",
    "        Params\n",
    "        ======\n",
    "            state (array_like): current state\n",
    "            eps (float): epsilon, for epsilon-greedy action selection\n",
    "        \"\"\"\n",
    "        state = torch.from_numpy(state).float().unsqueeze(0).to(device)\n",
    "        self.qnetwork_local.eval()\n",
    "        with torch.no_grad():\n",
    "            action_values = self.qnetwork_local(state)\n",
    "        self.qnetwork_local.train()\n",
    "\n",
    "        # Epsilon-greedy action selection\n",
    "        if random.random() > eps:\n",
    "            action = np.argmax(action_values.cpu().data.numpy())\n",
    "        else:\n",
    "            action = random.choice(np.arange(self.action_size))\n",
    "            \n",
    "        return action\n",
    "            \n",
    "\n",
    "    def learn(self, experiences, gamma):\n",
    "        \"\"\"Update value parameters using given batch of experience tuples.\n",
    "\n",
    "        Params\n",
    "        ======\n",
    "            experiences (Tuple[torch.Variable]): tuple of (s, a, r, s', done) tuples \n",
    "            gamma (float): discount factor\n",
    "        \"\"\"\n",
    "        states, actions, rewards, next_states, dones = experiences\n",
    "\n",
    "        # Get max predicted Q values (for next states) from target model\n",
    "        Q_targets_next = self.qnetwork_target(next_states).detach().max(1)[0].unsqueeze(1)\n",
    "        # Compute Q targets for current states \n",
    "        Q_targets = rewards + (gamma * Q_targets_next * (1 - dones))\n",
    "\n",
    "        # Get expected Q values from local model\n",
    "#         print(actions)\n",
    "        Q_expected = self.qnetwork_local(states).gather(1, actions)\n",
    "#         print(self.qnetwork_local(states).shape, Q_expected.shape, Q_targets.shape)\n",
    "        \n",
    "        \n",
    "        # Compute loss\n",
    "        loss = F.mse_loss(Q_expected, Q_targets)\n",
    "        # Minimize the loss\n",
    "        self.optimizer.zero_grad()\n",
    "        loss.backward()\n",
    "        self.optimizer.step()\n",
    "        \n",
    "        if self.t_step == 0:\n",
    "            # ------------------- update target network ------------------- #\n",
    "            self.soft_update(self.qnetwork_local, self.qnetwork_target, TAU)                     \n",
    "\n",
    "    def soft_update(self, local_model, target_model, tau):\n",
    "        \"\"\"Soft update model parameters.\n",
    "        θ_target = τ*θ_local + (1 - τ)*θ_target\n",
    "\n",
    "        Params\n",
    "        ======\n",
    "            local_model (PyTorch model): weights will be copied from\n",
    "            target_model (PyTorch model): weights will be copied to\n",
    "            tau (float): interpolation parameter \n",
    "        \"\"\"\n",
    "        for target_param, local_param in zip(target_model.parameters(), local_model.parameters()):\n",
    "            target_param.data.copy_(tau*local_param.data + (1.0-tau)*target_param.data)\n",
    "\n",
    "class ReplayBuffer:\n",
    "    \"\"\"Fixed-size buffer to store experience tuples.\"\"\"\n",
    "\n",
    "    def __init__(self, action_size, buffer_size, batch_size, seed):\n",
    "        \"\"\"Initialize a ReplayBuffer object.\n",
    "\n",
    "        Params\n",
    "        ======\n",
    "            action_size (int): dimension of each action\n",
    "            buffer_size (int): maximum size of buffer\n",
    "            batch_size (int): size of each training batch\n",
    "            seed (int): random seed\n",
    "        \"\"\"\n",
    "        self.action_size = action_size\n",
    "        self.memory = deque(maxlen=buffer_size)  \n",
    "        self.batch_size = batch_size\n",
    "        self.experience = namedtuple(\"Experience\", field_names=[\"state\", \"action\", \"reward\", \"next_state\", \"done\"])\n",
    "        self.seed = random.seed(seed)\n",
    "    \n",
    "    def add(self, state, action, reward, next_state, done):\n",
    "        \"\"\"Add a new experience to memory.\"\"\"\n",
    "        e = self.experience(state, action, reward, next_state, done)\n",
    "        self.memory.append(e)\n",
    "    \n",
    "    def sample(self):\n",
    "        \"\"\"Randomly sample a batch of experiences from memory.\"\"\"\n",
    "        experiences = random.sample(self.memory, k=self.batch_size)\n",
    "\n",
    "        states = torch.from_numpy(np.vstack([e.state for e in experiences if e is not None])).float().to(device)\n",
    "        actions = torch.from_numpy(np.vstack([e.action for e in experiences if e is not None])).long().to(device)\n",
    "        rewards = torch.from_numpy(np.vstack([e.reward for e in experiences if e is not None])).float().to(device)\n",
    "        next_states = torch.from_numpy(np.vstack([e.next_state for e in experiences if e is not None])).float().to(device)\n",
    "        dones = torch.from_numpy(np.vstack([e.done for e in experiences if e is not None]).astype(np.uint8)).float().to(device)\n",
    "  \n",
    "        return (states, actions, rewards, next_states, dones)\n",
    "\n",
    "    def __len__(self):\n",
    "        \"\"\"Return the current size of internal memory.\"\"\"\n",
    "        return len(self.memory)"
   ]
  },
  {
   "cell_type": "code",
   "execution_count": 13,
   "metadata": {},
   "outputs": [],
   "source": [
    "agent = Agent(state_size, action_size, 0)"
   ]
  },
  {
   "cell_type": "markdown",
   "metadata": {},
   "source": [
    "#### Learning Iteration\n",
    "\n",
    "The following function is the training block for the agent. This is also brought from the previous practice project in the nanodegree program, but slightly changed. I updated to keep a frequent checkpoint and updated the eps decay rate, so that the learning hopes to explore for around first 1500 episodes. The code also saves an optimum model which outperforms all the epsiodes in training. Although this wouldn't be very reliable as it is not guarnated the model caused better performance or was it just lucky on its random picks. But even so the pick on general should push the model in a positive direction.\n",
    "\n",
    "As mentioned before it uses epsilon greedy approach to pick an action. Once it takes the action it invokes the step in the environmenet collecting the new state details along with reward and done status. It then adds that step to agent, where the agent will invoke the learning algorithm at every few steps to updat its local network model and target network model."
   ]
  },
  {
   "cell_type": "code",
   "execution_count": 14,
   "metadata": {},
   "outputs": [],
   "source": [
    "def dqn(n_episodes=2000, max_t=2000, eps_start=1.0, eps_end=0.01, eps_decay=0.9969, train=True):\n",
    "    \"\"\"Deep Q-Learning.\n",
    "    \n",
    "    Params\n",
    "    ======\n",
    "        n_episodes (int): maximum number of training episodes\n",
    "        max_t (int): maximum number of timesteps per episode\n",
    "        eps_start (float): starting value of epsilon, for epsilon-greedy action selection\n",
    "        eps_end (float): minimum value of epsilon\n",
    "        eps_decay (float): multiplicative factor (per episode) for decreasing epsilon\n",
    "        train (bool): to update agent or not\n",
    "    \"\"\"\n",
    "    max_score = -100\n",
    "    scores = []                        # list containing scores from each episode\n",
    "    scores_window = deque(maxlen=100)  # last 100 scores\n",
    "    eps = eps_start                    # initialize epsilon\n",
    "    print(\"Starting training\")\n",
    "    for i_episode in range(1, n_episodes+1):\n",
    "        env_info = env.reset(train_mode=True)[brain_name]\n",
    "        state = env_info.vector_observations[0]\n",
    "        score = 0\n",
    "        for t in range(max_t):\n",
    "            action = int(agent.act(state, eps))\n",
    "            env_info = env.step(action)[brain_name]\n",
    "            next_state = env_info.vector_observations[0]   # get the next state\n",
    "            reward = env_info.rewards[0]                   # get the reward\n",
    "            done = env_info.local_done[0]   \n",
    "            if train:\n",
    "                agent.step(state, action, reward, next_state, done)\n",
    "            state = next_state\n",
    "            score += reward\n",
    "            if done:\n",
    "                if train:\n",
    "                    torch.save(agent.qnetwork_local.state_dict(), 'checkpoint_done.pth')\n",
    "                break \n",
    "                \n",
    "        scores_window.append(score)       # save most recent score\n",
    "        scores.append(score)              # save most recent score\n",
    "        print('\\rEpisode {}\\tAverage Score: {:.2f}, Max score: {}, Min score: {}'.format(i_episode, np.mean(scores_window), np.max(scores_window), np.min(scores_window)), end=\"\")\n",
    "        if train:\n",
    "            eps = max(eps_end, eps_decay*eps) # decrease epsilon\n",
    "            if i_episode % 100 == 0:\n",
    "                print('\\rEpisode {}\\tAverage Score: {:.2f}'.format(i_episode, np.mean(scores_window)))\n",
    "                torch.save(agent.qnetwork_local.state_dict(), f'checkpoint.pth')\n",
    "            if np.mean(scores_window) > 13:\n",
    "                torch.save(agent.qnetwork_local.state_dict(), 'checkpoint_solution.pth')\n",
    "                print(f'Solution score {score} obtained at {i_episode}' )\n",
    "                break\n",
    "    #         torch.save(anget.qnetwork_local.state_dict(), f'checkpoint{i_episode}.pth')\n",
    "    return scores"
   ]
  },
  {
   "cell_type": "code",
   "execution_count": 15,
   "metadata": {
    "scrolled": false
   },
   "outputs": [
    {
     "name": "stdout",
     "output_type": "stream",
     "text": [
      "Starting training\n",
      "Episode 100\tAverage Score: 0.40, Max score: 5.0, Min score: -4.0\n",
      "Episode 200\tAverage Score: 2.99, Max score: 8.0, Min score: -1.0\n",
      "Episode 300\tAverage Score: 5.24, Max score: 15.0, Min score: -1.0\n",
      "Episode 400\tAverage Score: 6.50, Max score: 16.0, Min score: -1.0\n",
      "Episode 500\tAverage Score: 7.81, Max score: 16.0, Min score: -2.0\n",
      "Episode 600\tAverage Score: 10.27, Max score: 19.0, Min score: 3.0\n",
      "Episode 700\tAverage Score: 11.55, Max score: 20.0, Min score: 2.0\n",
      "Episode 800\tAverage Score: 12.15, Max score: 20.0, Min score: 4.0\n",
      "Episode 847\tAverage Score: 13.03, Max score: 19.0, Min score: 4.0Solution score 15.0 obtained at 847\n"
     ]
    },
    {
     "data": {
      "image/png": "[encoded data removed]",
      "text/plain": [
       "<Figure size 432x288 with 1 Axes>"
      ]
     },
     "metadata": {
      "needs_background": "light"
     },
     "output_type": "display_data"
    }
   ],
   "source": [
    "# agent.qnetwork_local.load_state_dict(torch.load(\"checkpoint.pth\"))\n",
    "scores = dqn(n_episodes=1800)\n",
    "\n",
    "# plot the scores\n",
    "fig = plt.figure()\n",
    "ax = fig.add_subplot(111)\n",
    "plt.plot(np.arange(len(scores)), scores)\n",
    "plt.ylabel('Score')\n",
    "plt.xlabel('Episode #')\n",
    "plt.show()"
   ]
  },
  {
   "cell_type": "markdown",
   "metadata": {},
   "source": [
    "#### Performance\n",
    "Above you can see the model get average score of 13+ by 1200 episodes, having a higher learning rate and tau helped it to acheive that score much faster but also due to that the variation is much higher.\n",
    "\n",
    "This is why below I do a quick comparison over 100 episodes for the three different checkpoints I have saved. One is the checkpoint that is updated every time agent gets into the terminal state of the environment. One is checkpoint for every step, so it is the final state, and the other is the optimum checkpoint, which saves whenever the highest score increases.\n",
    "\n",
    "And as we can see this gave the highest average score."
   ]
  },
  {
   "cell_type": "code",
   "execution_count": null,
   "metadata": {},
   "outputs": [],
   "source": [
    "agent.qnetwork_local.load_state_dict(torch.load('checkpoint_done.pth', map_location='cpu'))\n",
    "scores = dqn(100, 1000, 0,0,0, False)\n",
    "agent.qnetwork_local.load_state_dict(torch.load('checkpoint.pth', map_location='cpu'))\n",
    "scores = dqn(100, 1000, 0,0,0, False)\n",
    "agent.qnetwork_local.load_state_dict(torch.load('checkpoint_opt.pth', map_location='cpu'))\n",
    "scores = dqn(100, 1000, 0,0,0, False)"
   ]
  },
  {
   "cell_type": "markdown",
   "metadata": {},
   "source": [
    "Running the environment with optimum model to visually see its performance."
   ]
  },
  {
   "cell_type": "code",
   "execution_count": null,
   "metadata": {},
   "outputs": [],
   "source": [
    "agent.qnetwork_local.load_state_dict(torch.load('model.pth', map_location='cpu'))\n",
    "env_info = env.reset(train_mode=False)[brain_name]\n",
    "state = torch.from_numpy(env_info.vector_observations[0]).float().unsqueeze(0)\n",
    "score = 0\n",
    "blue_ban = 0\n",
    "yellow_ban = 0\n",
    "moves = 0\n",
    "for i in range(10000):\n",
    "    action = np.argmax(agent.qnetwork_local(state).cpu().data.numpy())\n",
    "    env_info = env.step(int(action))[brain_name]\n",
    "    next_state = torch.from_numpy(env_info.vector_observations[0]).float().unsqueeze(0)\n",
    "    reward = env_info.rewards[0]\n",
    "    if reward > 0:\n",
    "        yellow_ban += 1\n",
    "    elif reward < 0:\n",
    "        blue_ban += 1\n",
    "    \n",
    "    done = env_info.local_done[0]\n",
    "    state = next_state\n",
    "    if done:\n",
    "        print(\"Marked done\")\n",
    "        break\n",
    "    score += reward\n",
    "print(\"Final score\", score)\n",
    "print(blue_ban, yellow_ban)"
   ]
  },
  {
   "cell_type": "markdown",
   "metadata": {},
   "source": [
    "#### Problems and Improvment\n",
    "\n",
    "While the goal of the project is obtained there are multiple places to improve. To begin with there could have been significant improvement if I made use of better alogrithms like Double DQN, Duelling DQN or Prioritized Experience Replay.\n",
    "\n",
    "A common problem identified is that it does try to avoid the blue bananas but it still according to me at cases fails to achieve something even higher. For example in some cases maybe going pass a blue banana would result in getting more yellow bananas resulting and overall higher score. Or in some cases it just keeps going forward where there is nothing ahead. Sometimes it would get on the walls as well. It was suggested in my feedback that these overfitting problems could have been reduced by adapting regularization techniques such as L2 or Dropout.\n",
    "\n",
    "The agent mostly chooses to go to its nearest yellow banana avoiding the blue ones direction in most cases, but in certain cases it could be that going through the blue banana would end up resulting it to get even more yellow bananas. While discount rate during training I used was already high, but it could posibly been improved if we did Prioritized Experience Replay. As it would work more on the TD errors.\n",
    "\n",
    "For reducing the moves toward an empty area, we could introduce a small penalty for moves where you dont collect anything. This could help the agent to learn to pick more bananas in fewer steps. But another thing that could help is using Double DQN as it helps avoid overestimation of the Q-value.\n",
    "\n",
    "Another point mentioned in my project feeback was that the network architecture was a bit of an overkill. A much smaller network could possibly have obtained the same achievement in a bit more episodes, and on the long run this is something that would be more preferable compared to a large network. Which is indeed true, as shared before the large network ends up sort of overfitting. While it achieves the goal, the performance can't really be marked as the optimum performance. Exploring other algorithms could have helped improve the performance much better."
   ]
  },
  {
   "cell_type": "code",
   "execution_count": null,
   "metadata": {},
   "outputs": [],
   "source": [
    "env.close()"
   ]
  },
  {
   "cell_type": "code",
   "execution_count": null,
   "metadata": {},
   "outputs": [],
   "source": []
  }
 ],
 "metadata": {
  "kernelspec": {
   "display_name": "Python 3",
   "language": "python",
   "name": "python3"
  },
  "language_info": {
   "codemirror_mode": {
    "name": "ipython",
    "version": 3
   },
   "file_extension": ".py",
   "mimetype": "text/x-python",
   "name": "python",
   "nbconvert_exporter": "python",
   "pygments_lexer": "ipython3",
   "version": "3.6.1"
  }
 },
 "nbformat": 4,
 "nbformat_minor": 2
}
